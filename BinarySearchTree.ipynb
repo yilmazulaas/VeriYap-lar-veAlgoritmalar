{
 "cells": [
  {
   "cell_type": "markdown",
   "metadata": {},
   "source": [
    "#### [7, 5, 1, 8, 3, 6, 0, 9, 4, 2] dizisinin Binary-Search-Tree aşamalarını yazınız.\n",
    "\n",
    "Örnek: root x'dir. root'un sağından y bulunur. Solunda z bulunur vb.\n",
    "\n",
    "root= 6                           6\n",
    "                                /  \\\n",
    "                               5    7\n",
    "                              /      \\\n",
    "                             3        8\n",
    "                            / \\        \\\n",
    "                           2   4        9\n",
    "                          /\n",
    "                         1\n",
    "                        /\n",
    "                       0 "
   ]
  },
  {
   "cell_type": "markdown",
   "metadata": {},
   "source": [
    "#### Aşamalar\n",
    "\n",
    "-5,6 dan küçük soluna yazılır. 7, 6 dan büyük sağına yazılır.\n",
    "\n",
    "-3 rakamı 6 ve 5 ten küçük 5 in soluna yazılır.\n",
    "\n",
    "-2 rakamı 6,5 ve 3 ten küçük olduğundan 3 ün soluna yazılır.4 rakamı 6 ve 5 ten küçük olduğundan sola 3 ten büyük olduğundan  3 ün sağına yazılır.\n",
    "\n",
    "-1 rakamı 6,5,3 ve 2 den küçük 2 nin soluna yazılır.\n",
    "\n",
    "-0 rakamı 6,5,3,2 ve 1 den küçük 1 in soluna yazılır.\n",
    "\n",
    "-8 rakamı 6 ve 7 den büyük 7 nin sağına yazılır.\n",
    "\n",
    "-9 rakamı 6,7 ve 8 den büyük 8 in sağına yazılır"
   ]
  },
  {
   "cell_type": "markdown",
   "metadata": {},
   "source": [
    "[Patika.dev](https://www.patika.dev/tr)\n",
    "[Kodluyoruz](https://kodluyoruz.org/tr/kodluyoruz/)"
   ]
  }
 ],
 "metadata": {
  "kernelspec": {
   "display_name": "Python 3",
   "language": "python",
   "name": "python3"
  },
  "language_info": {
   "codemirror_mode": {
    "name": "ipython",
    "version": 3
   },
   "file_extension": ".py",
   "mimetype": "text/x-python",
   "name": "python",
   "nbconvert_exporter": "python",
   "pygments_lexer": "ipython3",
   "version": "3.7.6"
  }
 },
 "nbformat": 4,
 "nbformat_minor": 4
}
