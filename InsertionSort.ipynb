{
 "cells": [
  {
   "cell_type": "markdown",
   "metadata": {},
   "source": [
    "# Insertion Sort"
   ]
  },
  {
   "cell_type": "markdown",
   "metadata": {},
   "source": [
    "# [22,27,16,2,18,6]"
   ]
  },
  {
   "cell_type": "markdown",
   "metadata": {},
   "source": [
    "### 1-)Yukarıda verilen dizinin sort türüne göre aşamalarını yazınız.\n",
    "\n",
    "1-) [22,27,16,2,18,6]\n",
    "\n",
    "2-) [16,22,27,2,18,6]\n",
    "\n",
    "3-) [2,16,22,27,18,6]\n",
    "\n",
    "4-) [2,6,16,22,27,18]\n",
    "\n",
    "5-) [2,6,16,18,22,27]"
   ]
  },
  {
   "cell_type": "markdown",
   "metadata": {},
   "source": [
    "### 2-) Big-O gösterimini yazınız.\n",
    "\n",
    "Worst Case: O(n^2)\n",
    "\n",
    "Average Case: O(n^2)\n",
    "\n",
    "Best Case: O(n)"
   ]
  },
  {
   "cell_type": "markdown",
   "metadata": {},
   "source": [
    "### 3-)Time Complexity: -Average case: Aradığımız sayının ortada olması, -Worst case: Aradığımız sayının sonda olması, -Best case: Aradığımız sayının dizinin en başında olması.\n",
    "\n",
    "-Avarage Case: [2,6,16,18,22,27]\n",
    "\n",
    "-Worst Case: [27,22,18,16,6,2]\n",
    "\n",
    "-Best Case: [2,6,16,18,22,27]"
   ]
  },
  {
   "cell_type": "markdown",
   "metadata": {},
   "source": [
    "### 4-)Dizi sıralandıktan sonra 18 sayısı hangi case kapsamına girer? Yazınız.\n",
    "\n",
    "Dizinin tam ortasında bulunduğundan \"Avarage Case\" kapsamına girer."
   ]
  },
  {
   "cell_type": "markdown",
   "metadata": {},
   "source": [
    "### [7,3,5,8,2,9,4,15,6] dizisinin Insertion Sort'a göre ilk 4 adımını yazınız.\n",
    "\n",
    "1-) [2,3,5,8,7,9,4,15,6]\n",
    "\n",
    "2-) [2,3,4,8,7,9,5,15,6]\n",
    "\n",
    "3-) [2,3,4,5,7,9,8,15,6]\n",
    "\n",
    "4-) [2,3,4,5,6,9,8,15,7]"
   ]
  },
  {
   "cell_type": "markdown",
   "metadata": {},
   "source": [
    "[Patika.dev](https://www.patika.dev/tr)\n",
    "[Kodluyoruz](https://kodluyoruz.org/tr/kodluyoruz/)"
   ]
  }
 ],
 "metadata": {
  "kernelspec": {
   "display_name": "Python 3",
   "language": "python",
   "name": "python3"
  },
  "language_info": {
   "codemirror_mode": {
    "name": "ipython",
    "version": 3
   },
   "file_extension": ".py",
   "mimetype": "text/x-python",
   "name": "python",
   "nbconvert_exporter": "python",
   "pygments_lexer": "ipython3",
   "version": "3.7.6"
  }
 },
 "nbformat": 4,
 "nbformat_minor": 4
}
