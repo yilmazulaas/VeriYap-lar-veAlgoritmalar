{
 "cells": [
  {
   "cell_type": "markdown",
   "metadata": {},
   "source": [
    "#### [16,21,11,8,12,22] -> Merge Sort\n",
    "\n",
    "#### 1-) Yukarıdaki dizinin sort türüne göre aşamalarını yazınız\n",
    "\n",
    "1.Aşama\n",
    "Dizi orta indexten ikili gruplar haline getirilir.\n",
    "[16,21,11] \n",
    "[8,12,22]\n",
    "\n",
    "2.Aşama\n",
    "Parçalanan diziler alt gruplara tekrar parçalanır.\n",
    "[16] [21,11] \n",
    "[8,12] [22]\n",
    "\n",
    "3.Aşama\n",
    "Parçalanan dizilerde tek eleman kalana kadar parçalamaya devam edilir.\n",
    "[16] [21] [11]\n",
    "[8] [12] [22]\n",
    "\n",
    "4.Aşama\n",
    "Parçalanan diziler aralarında kıyas yapılarak birleştirilir.Birleştirme işlemi en küçük elemanın, dizinin en başına gelmesi koşuluyla yapılmalıdır. \n",
    "\n",
    "[11,16,21] \n",
    "[8,12,22]\n",
    "\n",
    "Dizinin son hali : [8,11,12,16,21,22]\n",
    "        "
   ]
  },
  {
   "cell_type": "markdown",
   "metadata": {},
   "source": [
    "#### Big-O gösterimini yazınız.\n",
    "\n",
    "Merge Sort algoritmasında Big-O gösterimi\n",
    "\n",
    "O(n.logn)"
   ]
  },
  {
   "cell_type": "markdown",
   "metadata": {},
   "source": [
    "[Patika.dev](https://www.patika.dev/tr)\n",
    "[Kodluyoruz](https://kodluyoruz.org/tr/kodluyoruz/)"
   ]
  },
  {
   "cell_type": "code",
   "execution_count": null,
   "metadata": {},
   "outputs": [],
   "source": []
  }
 ],
 "metadata": {
  "kernelspec": {
   "display_name": "Python 3",
   "language": "python",
   "name": "python3"
  },
  "language_info": {
   "codemirror_mode": {
    "name": "ipython",
    "version": 3
   },
   "file_extension": ".py",
   "mimetype": "text/x-python",
   "name": "python",
   "nbconvert_exporter": "python",
   "pygments_lexer": "ipython3",
   "version": "3.7.6"
  }
 },
 "nbformat": 4,
 "nbformat_minor": 4
}
